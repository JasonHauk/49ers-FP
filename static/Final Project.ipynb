{
 "cells": [
  {
   "cell_type": "code",
   "execution_count": 1,
   "id": "45fb7abf",
   "metadata": {},
   "outputs": [],
   "source": [
    "import pandas as pd"
   ]
  },
  {
   "cell_type": "code",
   "execution_count": 2,
   "id": "ad9478ee",
   "metadata": {},
   "outputs": [],
   "source": [
    "df = pd.read_csv(\"ucsd.csv\")"
   ]
  },
  {
   "cell_type": "code",
   "execution_count": 3,
   "id": "302dfa27",
   "metadata": {},
   "outputs": [],
   "source": [
    "df[\"Time of Crime\"] = pd.to_datetime(df[\"Time of Crime\"], format='%I:%M %p', errors='coerce').dt.strftime('%I:%M %p')"
   ]
  },
  {
   "cell_type": "code",
   "execution_count": 4,
   "id": "edae345f",
   "metadata": {},
   "outputs": [],
   "source": [
    "df[\"Date of Response\"] = pd.to_datetime(df[\"Date of Response\"])"
   ]
  },
  {
   "cell_type": "code",
   "execution_count": 5,
   "id": "18e2f30c",
   "metadata": {
    "scrolled": true
   },
   "outputs": [
    {
     "data": {
      "text/plain": [
       "Index(['Key', 'Alert Category', 'Date of Response', 'Time of Response',\n",
       "       'Date of Crime', 'Time of Crime', 'Crime Category', 'Location of Crime',\n",
       "       'Suspect Description', 'Suspect in Custody', 'Update', 'Link'],\n",
       "      dtype='object')"
      ]
     },
     "execution_count": 5,
     "metadata": {},
     "output_type": "execute_result"
    }
   ],
   "source": [
    "df.columns"
   ]
  },
  {
   "cell_type": "code",
   "execution_count": 6,
   "id": "44e047c2",
   "metadata": {},
   "outputs": [],
   "source": [
    "df[\"Alert Category\"].value_counts()\n",
    "\n",
    "general_alerts = {\n",
    "    \"Timely Warning\" : \"Timely Warning\",\n",
    "    \"Community Alert Bulletin\" : \"Alert Bulletin\",\n",
    "    \"Confirmed Cases of COVID-19 at UC San Diego\" : \"COVID\",\n",
    "    \"Crime Alert Bulletin\" : \"Alert Bulletin\",\n",
    "    \"Annual Campus Lightning Review Walks\" : \"Reports\",\n",
    "    \"Reissued 2021 UC San Diego Annual Security and Fire Safety Report\" : \"Reports\",\n",
    "    \"Triton Alert Bulletin\": \"Alert Bulletin\",\n",
    "    \"Annual Campus Lighting & Safety Review Walks\" : \"Reports\",\n",
    "    \"Notice of the 2022 UC San Diego Annual Security and Fire Safety Report\" : \"Reports\",\n",
    "    \"Information on Jacobs Medical Center Incident\" : \"Alert Bulletin\"\n",
    "}"
   ]
  },
  {
   "cell_type": "code",
   "execution_count": 7,
   "id": "f3331c5b",
   "metadata": {},
   "outputs": [
    {
     "data": {
      "text/plain": [
       "Crime Category\n",
       "Burglary                                                                                24\n",
       "Robbery                                                                                  9\n",
       "Aggrevated Assault                                                                       8\n",
       "Attempted Burglary                                                                       7\n",
       "Arson                                                                                    7\n",
       "Sexual Battery                                                                           5\n",
       "Campus Threats                                                                           4\n",
       "Suspicious Activity                                                                      4\n",
       "Avoid Area                                                                               4\n",
       "Theft By False Pretenses (Phone Scams)                                                   3\n",
       "Missing Juvenile At Risk                                                                 2\n",
       "Attempted Robbery                                                                        2\n",
       "Sexual Assault                                                                           2\n",
       "Indecent Exposure                                                                        2\n",
       "Motor Vehicle Theft                                                                      2\n",
       "Attempted Motor Vehicle Theft                                                            1\n",
       "Stalking                                                                                 1\n",
       "Office Building Burglaries                                                               1\n",
       "Trespassing in an Occupied Residence                                                     1\n",
       "Unlawful Entry in Residential Areas                                                      1\n",
       "Brandishing of a Firearm                                                                 1\n",
       "Information on Jacobs Medical Center Incident                                            1\n",
       "Sexual Assault Unknown Perpetrator                                                       1\n",
       "Attempted Strong-Arm Robbery                                                             1\n",
       "Anonymouse Phone Threats                                                                 1\n",
       "Notice of the 2022 UC San Diego Annual Security and Fire Safety Report                   1\n",
       "Forced Entry Into Occupied Residence                                                     1\n",
       "Intimidation - Sexual Orientation Bias                                                   1\n",
       "Annual Campus Lighting & Safety Review Walks                                             1\n",
       "Streets Reopened                                                                         1\n",
       "Catalytic Converter Theft                                                                1\n",
       "Weapons Law Violation                                                                    1\n",
       "Reissued 2021 UC San Diego Annual Security and Fire Safety Report - Updated Policies     1\n",
       "Attempted E-Bike / Motor Vehicle Theft                                                   1\n",
       "Stalking and Sexual Assault                                                              1\n",
       "Name: count, dtype: int64"
      ]
     },
     "execution_count": 7,
     "metadata": {},
     "output_type": "execute_result"
    }
   ],
   "source": [
    "df['Crime Category'] = df['Crime Category'].replace({'Theft by False Pretenses (Phone Scams)': 'Theft By False Pretenses (Phone Scams)', 'Theft by False Pretenses (Phone Scam)': 'Theft By False Pretenses (Phone Scams)'})\n",
    "df[\"Crime Category\"].value_counts()"
   ]
  },
  {
   "cell_type": "code",
   "execution_count": 68,
   "id": "811aa6c4",
   "metadata": {},
   "outputs": [
    {
     "data": {
      "text/plain": [
       "['UC San Diego campus written on the inside surfaces of three women’s restroom doors.',\n",
       " 'Voigt Drive & Matthews Lane',\n",
       " 'Biological Grade Parking Lot #011',\n",
       " 'the Triton Clubhouse at the baseball field at 3685 Voigt Drive',\n",
       " 'La Jolla Shores Hotel',\n",
       " 'The Hillcrest Medical Center',\n",
       " 'UC San Diego Health Medical Offices South (4168 Front St.)',\n",
       " 'Sulpizio Cardiovascular Center at UC San Diego Health',\n",
       " 'MTS Bus stop located at Villa La Jolla Drive and the entrance to the VA Hospital',\n",
       " 'UC San Diego Medical - Hillcrest Arbor Parking Structure',\n",
       " 'the classrooms at the UC San Diego Extended Studies and Public Program Building, 9710 Scholars Drive North.',\n",
       " 'various locations on the UC San Diego campus',\n",
       " 'North Torrey Pines Living Learning Neighborhood',\n",
       " 'intersection of Scholars Drive North and Exploration Drive',\n",
       " 'North Torrey Pines Living and Learning Center',\n",
       " 'the School of Medicine and Chancellor’s Complex',\n",
       " 'Preuss School',\n",
       " 'residential spaces around campus',\n",
       " 'Nueva West Housing Street Corner Community Store',\n",
       " 'Voigt Drive and Hopkins Drive',\n",
       " 'Hopkins Parking Structure',\n",
       " '9000 Villa La Jolla Drive',\n",
       " 'area of parking lot #352',\n",
       " \"Scripps Institution of Oceanography Old Director's House at 8670 Discovery Way, flames and smoke coming from the southeast corner of the building.\",\n",
       " 'while walking on 8600 La Jolla Scenic Drive North.',\n",
       " '3857 Miramar Street, between Arena and Cresta buildings',\n",
       " 'robbery that occurred at the 101 bus stop at the corner of North Torrey Pines and La Jolla Shores Drive',\n",
       " 'Voigt Drive',\n",
       " 'parking lot outside 3366 North Torrey Pines Court',\n",
       " 'UCSD Medical Center Hillcrest Parking Lot',\n",
       " 'UCSD Hillcrest Hospital',\n",
       " 'Leichtag Biomedical Research Building',\n",
       " 'School of Medicine - Holly Building']"
      ]
     },
     "execution_count": 68,
     "metadata": {},
     "output_type": "execute_result"
    }
   ],
   "source": [
    "locs = df[\"Location of Crime\"].value_counts()\n",
    "locs = locs[~(locs.keys().isin([\"Warren Lecture Hall\", \"Warren Mall\", 'Thurgood Marshall College Residence Halls',\n",
    "'Marshall Lower Apartments',  'Marshall Lower – Freedom building', 'Marshall Lower Apartments, \"Empower\" Building',\n",
    "'Thurgood Marshall Apartments and Oceanview Terrace', \"Sixth College\", 'Seventh College', \n",
    "'Seventh College West residential area', \"ERC\", 'La Jolla Trolley Platform', 'Central Campus Trolley Station',\n",
    "'UC Health Trolley Stop', 'Central Campus Trolley platform', 'Central Campus Trolley Station toward Library Walk',\n",
    "'York Hall', '1000 York Lane', \"Revelle College\",'online, phone calls', 'Sun God Lawn', \"Harlan Hall\",\n",
    "'Eleanor Roosevelt College residence halls', 'report of a fire at Argo Hall. The reporting party stated that there was a fire inside lounge room on the fourth floor.',\n",
    "'Latin America Hall', 'Tioga Hall', 'Center Hall', \"Library Walk near The Trove\", \"Pepper Canyon Apartments\", 'South Mesa Apartments',\n",
    "'3867 Miramar Street – Mesa Nueva Artesa', 'Mesa Nueva Housing', 'Mesa Verde Hall', 'Mesa Nueva', 'Mesa Apartments', 'near 9266 Regents Road (Mesa Apartments)',\n",
    "'Mesa Housing Pedestrian Bike Bridge', 'Mesa Housing', 'Rita Atkinson Residences', \"Cafe Ventanas\", 'Applied Mathematics and Physics (AP&M) office',\n",
    "'Keeling Apartments', 'The Rita Atkinson Residences', \"Gilman Bridge\", \"Pangea Parking Structure\", \"Campus Point Parking Structure\", \n",
    "'Jacobs Medical Center', \"Matthews Apartment E building\", 'a conference room inside of the North Torrey Pines Living and Learning – Mosaic building, 9605 Scholars Drive North',\n",
    "'Sulpizio Cardiovascular Center at UC San Diego Health',     \n",
    "]))]\n",
    "list(locs.keys())"
   ]
  },
  {
   "cell_type": "code",
   "execution_count": 65,
   "id": "4400ae27",
   "metadata": {},
   "outputs": [
    {
     "data": {
      "text/plain": [
       "[]"
      ]
     },
     "execution_count": 65,
     "metadata": {},
     "output_type": "execute_result"
    }
   ],
   "source": [
    "list(locs.keys()[locs.keys().str.contains(\"Jacobs\") == True])"
   ]
  },
  {
   "cell_type": "code",
   "execution_count": 66,
   "id": "10df908e",
   "metadata": {},
   "outputs": [],
   "source": [
    "general_location:{\n",
    "    \"Warren Lecture Hall\" : \"Warren\",\n",
    "    \"Warren Mall\" : \"Warren\",\n",
    "    \"Harlan Hall\" : \"Warren\",\n",
    "    \n",
    "    'Thurgood Marshall College Residence Halls' : \"Marshall\",\n",
    "    'Marshall Lower Apartments' : \"Marshall\",\n",
    "    'Marshall Lower – Freedom building' : \"Marshall\",\n",
    "    'Marshall Lower Apartments, \"Empower\" Building' : \"Marshall\",\n",
    "    'Thurgood Marshall Apartments and Oceanview Terrace' : \"Marshall\",\n",
    "    \n",
    "    \"Sixth College\" : \"Sixth\",\n",
    "    'a conference room inside of the North Torrey Pines Living and Learning – Mosaic building, 9605 Scholars Drive North' : \"Sixth\",\n",
    "    \n",
    "    'Tioga Hall' : \"Muir\",\n",
    "    'Applied Mathematics and Physics (AP&M) office' :\"Muir\", \n",
    "    \n",
    "    'Seventh College' : \"Seventh\", \n",
    "    'Seventh College West residential area' : \"Seventh\",\n",
    "    \n",
    "    \"ERC\" : \"ERC\",\n",
    "    'Eleanor Roosevelt College residence halls' : \"ERC\",\n",
    "    'Latin America Hall' : \"ERC\",\n",
    "    \"Cafe Ventanas\" : \"ERC\",\n",
    "    \"Pangea Parking Structure\" : \"ERC\", \n",
    "    \n",
    "    'Revelle College' : 'Revelle',\n",
    "    'Keeling Apartments' : \"Revelle\",\n",
    "    'York Hall' : \"Revelle\",\n",
    "    '1000 York Lane' : \"Revelle\",\n",
    "    \"report of a fire at Argo Hall. The reporting party stated that there was a fire inside lounge room on the fourth floor.\" : \"Revelle\",\n",
    "\n",
    "    'La Jolla Trolley Platform' : \"UC Health Trolley Station\",\n",
    "    'UC Health Trolley Stop' : \"UC Health Trolley Station\",\n",
    "    'Central Campus Trolley Station' : \"Central Campus Trolley Station\",\n",
    "    'Central Campus Trolley platform' : \"Central Campus Trolley Station\",\n",
    "    'Central Campus Trolley Station toward Library Walk': \"Central Campus Trolley Station\",\n",
    "    \n",
    "    'online, phone calls' : \"Online\",\n",
    "    \n",
    "    'Sun God Lawn' : 'Sun God Lawn',\n",
    "    \n",
    "    'Pepper Canyon Apartments' : 'Pepper Canyon',\n",
    "    \"Matthews Apartment E building\" : \"Pepper Canyon\"\n",
    "    \n",
    "    'Library Walk near The Trove' : 'Library Walk near The Trove',\n",
    "    'Center Hall' : \"Library Walk\", \n",
    "    \n",
    "    'South Mesa Apartments' : \"Mesa Graduate Housing\",\n",
    "    '3867 Miramar Street – Mesa Nueva Artesa' : \"Mesa Graduate Housing\",\n",
    "    'Mesa Nueva Housing' : \"Mesa Graduate Housing\",\n",
    "    'Mesa Verde Hall': \"Mesa Graduate Housing\",\n",
    "    'Mesa Nueva': \"Mesa Graduate Housing\",\n",
    "    'Mesa Apartments': \"Mesa Graduate Housing\",\n",
    "    'near 9266 Regents Road (Mesa Apartments)': \"Mesa Graduate Housing\",\n",
    "    'Mesa Housing Pedestrian Bike Bridge': \"Mesa Graduate Housing\",\n",
    "    'Mesa Housing': \"Mesa Graduate Housing\",\n",
    "    \n",
    "    'Rita Atkinson Residences': \"Rita Atkinson\",\n",
    "    'The Rita Atkinson Residences' : \"Rita Atkinson\", \n",
    "    \n",
    "    \"Gilman Bridge\" : \"Gilman Bridge\", \n",
    "    \n",
    "    \"Campus Point Parking Structure\": \"UC San Diego Health System\", \n",
    "    'Jacobs Medical Center' : \"UC San Diego Health System\"\n",
    "    'Sulpizio Cardiovascular Center at UC San Diego Health' : \"UC San Diego Health System\",\n",
    "}"
   ]
  },
  {
   "cell_type": "code",
   "execution_count": null,
   "id": "7d221f69",
   "metadata": {},
   "outputs": [],
   "source": []
  }
 ],
 "metadata": {
  "kernelspec": {
   "display_name": "Python 3 (ipykernel)",
   "language": "python",
   "name": "python3"
  },
  "language_info": {
   "codemirror_mode": {
    "name": "ipython",
    "version": 3
   },
   "file_extension": ".py",
   "mimetype": "text/x-python",
   "name": "python",
   "nbconvert_exporter": "python",
   "pygments_lexer": "ipython3",
   "version": "3.9.5"
  }
 },
 "nbformat": 4,
 "nbformat_minor": 5
}
